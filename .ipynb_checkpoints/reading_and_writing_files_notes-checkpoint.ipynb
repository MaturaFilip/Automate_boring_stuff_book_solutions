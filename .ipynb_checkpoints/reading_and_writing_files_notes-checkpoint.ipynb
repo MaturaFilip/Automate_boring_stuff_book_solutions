{
 "cells": [
  {
   "cell_type": "code",
   "execution_count": null,
   "id": "61bb55ab-45ed-4ffa-9aa8-968d353996c7",
   "metadata": {},
   "outputs": [],
   "source": []
  }
 ],
 "metadata": {
  "kernelspec": {
   "display_name": "Python (lab)",
   "language": "python",
   "name": "lab"
  },
  "language_info": {
   "codemirror_mode": {
    "name": "ipython",
    "version": 3
   },
   "file_extension": ".py",
   "mimetype": "text/x-python",
   "name": "python",
   "nbconvert_exporter": "python",
   "pygments_lexer": "ipython3",
   "version": "3.12.2"
  }
 },
 "nbformat": 4,
 "nbformat_minor": 5
}
