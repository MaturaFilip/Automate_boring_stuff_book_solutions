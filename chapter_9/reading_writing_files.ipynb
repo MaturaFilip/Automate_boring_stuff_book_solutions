{
 "cells": [
  {
   "cell_type": "code",
   "execution_count": 1,
   "id": "c985b50d-9e49-4638-9eb3-b8ad9d604f15",
   "metadata": {},
   "outputs": [],
   "source": [
    "from pathlib import Path"
   ]
  },
  {
   "cell_type": "code",
   "execution_count": 2,
   "id": "31fc0ecd-4cab-4b21-96d2-35054bdbfd13",
   "metadata": {},
   "outputs": [
    {
     "data": {
      "text/plain": [
       "PosixPath('spam/bacon/eggs')"
      ]
     },
     "execution_count": 2,
     "metadata": {},
     "output_type": "execute_result"
    }
   ],
   "source": [
    "Path('spam', 'bacon', 'eggs')"
   ]
  },
  {
   "cell_type": "code",
   "execution_count": 6,
   "id": "60906a47-b964-4f7f-9fc2-404b8f163c3f",
   "metadata": {},
   "outputs": [
    {
     "name": "stdout",
     "output_type": "stream",
     "text": [
      "/usr/filip/home/test.txt\n",
      "/usr/filip/home/lol.dev\n",
      "/usr/filip/home/kek.txt\n"
     ]
    }
   ],
   "source": [
    "myFiles = ['test.txt', 'lol.dev', 'kek.txt']\n",
    "\n",
    "for file in myFiles:\n",
    "    print(Path('/usr/filip/home', file))"
   ]
  },
  {
   "cell_type": "markdown",
   "id": "ed220461-8e78-409b-a07f-4cd7c66d7c48",
   "metadata": {},
   "source": [
    "#### pathlib is replacing for **os.path**\n",
    "\n",
    "- Instead of os.path.join(), just use /"
   ]
  },
  {
   "cell_type": "markdown",
   "id": "7bb8aed4-9cfe-4a9e-a005-458cacf6cad2",
   "metadata": {},
   "source": [
    "### Using the **/** operator to join paths\n",
    "\n",
    "- instead of + we use / to join paths\n",
    "- we can use + or .join, but / from pathlib is safer\n",
    "- also Path determine your operating system\n",
    "- 1 or 2 leftmost value should be Path object, otherwise / not working"
   ]
  },
  {
   "cell_type": "code",
   "execution_count": 7,
   "id": "d37d58cc-e109-4e78-8e4d-27ed3d9b40a7",
   "metadata": {},
   "outputs": [
    {
     "data": {
      "text/plain": [
       "PosixPath('spam/bacon/eggs')"
      ]
     },
     "execution_count": 7,
     "metadata": {},
     "output_type": "execute_result"
    }
   ],
   "source": [
    "Path('spam') / 'bacon' / 'eggs'"
   ]
  },
  {
   "cell_type": "code",
   "execution_count": 8,
   "id": "3727f4ac-b79c-4ccf-b232-403d7dc36354",
   "metadata": {},
   "outputs": [
    {
     "data": {
      "text/plain": [
       "PosixPath('/user/filip/home/Desktop')"
      ]
     },
     "execution_count": 8,
     "metadata": {},
     "output_type": "execute_result"
    }
   ],
   "source": [
    "home = Path('/user/filip/home')\n",
    "sub = Path('Desktop')\n",
    "\n",
    "home / sub"
   ]
  },
  {
   "cell_type": "code",
   "execution_count": 9,
   "id": "6fecf93c-180b-4b69-90f7-a1707ed108e4",
   "metadata": {},
   "outputs": [
    {
     "data": {
      "text/plain": [
       "'/user/filip/home/Desktop'"
      ]
     },
     "execution_count": 9,
     "metadata": {},
     "output_type": "execute_result"
    }
   ],
   "source": [
    "str(home / sub)"
   ]
  },
  {
   "cell_type": "markdown",
   "id": "c731afc3-5982-4ba4-bca5-cdcec5b5c03a",
   "metadata": {},
   "source": [
    "## The current working directory\n",
    "\n",
    "- if you want to change dir and that dir do not exist -> error\n",
    "- no pathlib function for changing dir\n"
   ]
  },
  {
   "cell_type": "code",
   "execution_count": 14,
   "id": "ab804776-278c-440a-bcdb-1a9c04ded06d",
   "metadata": {},
   "outputs": [],
   "source": [
    "import os"
   ]
  },
  {
   "cell_type": "code",
   "execution_count": 15,
   "id": "64fd1902-7c4d-4b01-bf1e-6de69ee6f07a",
   "metadata": {},
   "outputs": [
    {
     "data": {
      "text/plain": [
       "PosixPath('/home/filip/Automate_boring_stuff_book_solutions/chapter_9')"
      ]
     },
     "execution_count": 15,
     "metadata": {},
     "output_type": "execute_result"
    }
   ],
   "source": [
    "Path.cwd() # current working dir"
   ]
  },
  {
   "cell_type": "code",
   "execution_count": 16,
   "id": "01a02027-fd29-4762-aba0-ca97cba2202e",
   "metadata": {},
   "outputs": [],
   "source": [
    "os.chdir('/home/filip/Automate_boring_stuff_book_solutions/chapter_8')"
   ]
  },
  {
   "cell_type": "code",
   "execution_count": 17,
   "id": "b00547d9-c1c6-476a-a1e7-714536d87ec2",
   "metadata": {},
   "outputs": [
    {
     "data": {
      "text/plain": [
       "PosixPath('/home/filip/Automate_boring_stuff_book_solutions/chapter_8')"
      ]
     },
     "execution_count": 17,
     "metadata": {},
     "output_type": "execute_result"
    }
   ],
   "source": [
    "Path.cwd() # we changed dir"
   ]
  },
  {
   "cell_type": "code",
   "execution_count": 18,
   "id": "0a5c9c2f-8f02-4e12-a591-deda04143f71",
   "metadata": {},
   "outputs": [],
   "source": [
    "os.chdir('/home/filip/Automate_boring_stuff_book_solutions/chapter_9')"
   ]
  },
  {
   "cell_type": "markdown",
   "id": "5f143b68-c9d9-4841-b0b9-5d850174514f",
   "metadata": {},
   "source": [
    "## The home directory"
   ]
  },
  {
   "cell_type": "code",
   "execution_count": 19,
   "id": "134405e9-d75d-4aa7-b048-cc4ff54d094e",
   "metadata": {},
   "outputs": [
    {
     "data": {
      "text/plain": [
       "PosixPath('/home/filip')"
      ]
     },
     "execution_count": 19,
     "metadata": {},
     "output_type": "execute_result"
    }
   ],
   "source": [
    "Path.home()"
   ]
  },
  {
   "cell_type": "markdown",
   "id": "acb6be3a-f0cc-45bc-ad1e-49708ba0117d",
   "metadata": {},
   "source": [
    "## Absolute (begin with /) vs Relative Paths (relative to cwd)\n",
    "\n",
    "- we can also use . and .. folders\n",
    "- ./spam.txt os the same as spam.txt (./ is optional)"
   ]
  },
  {
   "cell_type": "markdown",
   "id": "7145c200-eed9-4ebd-8705-76e08d037b31",
   "metadata": {},
   "source": [
    "## Creating new folders with os.makedirs()\n",
    "\n"
   ]
  },
  {
   "cell_type": "code",
   "execution_count": 20,
   "id": "80034f7a-48d8-49d6-b400-785017aaaf1f",
   "metadata": {},
   "outputs": [],
   "source": [
    "os.makedirs('test_folder')"
   ]
  },
  {
   "cell_type": "code",
   "execution_count": 21,
   "id": "34f35fa2-f9fc-4b6f-8f29-4da7ed7dc02e",
   "metadata": {},
   "outputs": [
    {
     "name": "stdout",
     "output_type": "stream",
     "text": [
      "reading_writing_files.ipynb  test_folder\n"
     ]
    }
   ],
   "source": [
    "!ls -h"
   ]
  },
  {
   "cell_type": "code",
   "execution_count": 22,
   "id": "e6876a16-c760-48a0-8c87-b8e84085a09d",
   "metadata": {},
   "outputs": [],
   "source": [
    "os.makedirs('first_folder/second_folder/third/folder')\n",
    "# create folder inside folder inside folder"
   ]
  },
  {
   "cell_type": "code",
   "execution_count": 23,
   "id": "f74b9953-7c48-4995-9ec6-71ef4f1a27a8",
   "metadata": {},
   "outputs": [
    {
     "name": "stdout",
     "output_type": "stream",
     "text": [
      "\u001b[01;34m.\u001b[0m\n",
      "├── \u001b[01;34mfirst_folder\u001b[0m\n",
      "│   └── \u001b[01;34msecond_folder\u001b[0m\n",
      "│       └── \u001b[01;34mthird\u001b[0m\n",
      "│           └── \u001b[01;34mfolder\u001b[0m\n",
      "├── reading_writing_files.ipynb\n",
      "└── \u001b[01;34mtest_folder\u001b[0m\n",
      "\n",
      "6 directories, 1 file\n"
     ]
    }
   ],
   "source": [
    "!tree"
   ]
  },
  {
   "cell_type": "code",
   "execution_count": 28,
   "id": "335da228-4c93-4b10-8681-7db5ed891afb",
   "metadata": {},
   "outputs": [
    {
     "name": "stdout",
     "output_type": "stream",
     "text": [
      "\u001b[01;34m.\u001b[0m\n",
      "├── \u001b[01;34meliska\u001b[0m\n",
      "├── \u001b[01;34mfirst_folder\u001b[0m\n",
      "│   └── \u001b[01;34msecond_folder\u001b[0m\n",
      "│       └── \u001b[01;34mthird\u001b[0m\n",
      "│           └── \u001b[01;34mfolder\u001b[0m\n",
      "├── \u001b[01;34mone\u001b[0m\n",
      "├── reading_writing_files.ipynb\n",
      "└── \u001b[01;34mtest_folder\u001b[0m\n",
      "\n",
      "8 directories, 1 file\n"
     ]
    }
   ],
   "source": [
    "# create folder with Path\n",
    "Path('/home/filip/Automate_boring_stuff_book_solutions/chapter_9/eliska').mkdir() # Path.mkdir() can create only 1 dir\n",
    "!tree "
   ]
  },
  {
   "cell_type": "markdown",
   "id": "a5c05b16-02ec-4514-824f-84087bbed8b3",
   "metadata": {},
   "source": [
    "## Handling absolute and relative paths\n",
    "\n"
   ]
  },
  {
   "cell_type": "code",
   "execution_count": 29,
   "id": "7fcb33e6-8a0a-4eb8-8f20-9a494c0207df",
   "metadata": {},
   "outputs": [
    {
     "data": {
      "text/plain": [
       "PosixPath('/home/filip/Automate_boring_stuff_book_solutions/chapter_9')"
      ]
     },
     "execution_count": 29,
     "metadata": {},
     "output_type": "execute_result"
    }
   ],
   "source": [
    "Path.cwd()\n"
   ]
  },
  {
   "cell_type": "code",
   "execution_count": 30,
   "id": "531512cb-cc49-4f4b-8b60-1cac4a0fd4a2",
   "metadata": {},
   "outputs": [
    {
     "data": {
      "text/plain": [
       "True"
      ]
     },
     "execution_count": 30,
     "metadata": {},
     "output_type": "execute_result"
    }
   ],
   "source": [
    "Path.cwd().is_absolute()"
   ]
  },
  {
   "cell_type": "code",
   "execution_count": 32,
   "id": "8da30143-6589-44f4-ac0d-1469ce103d85",
   "metadata": {},
   "outputs": [
    {
     "data": {
      "text/plain": [
       "False"
      ]
     },
     "execution_count": 32,
     "metadata": {},
     "output_type": "execute_result"
    }
   ],
   "source": [
    "Path('home/filip').is_absolute()"
   ]
  },
  {
   "cell_type": "code",
   "execution_count": 33,
   "id": "3f9610d8-1968-4d3c-990e-b6bfebc6a457",
   "metadata": {},
   "outputs": [
    {
     "data": {
      "text/plain": [
       "PosixPath('/home/filip/Automate_boring_stuff_book_solutions/chapter_9/eliska')"
      ]
     },
     "execution_count": 33,
     "metadata": {},
     "output_type": "execute_result"
    }
   ],
   "source": [
    "# get absolute path from relative path\n",
    "Path.cwd() / Path('eliska') # relative path is relative to cwd!"
   ]
  },
  {
   "cell_type": "code",
   "execution_count": 35,
   "id": "d4f274ee-bf71-467f-88f2-cf4ef6baf90c",
   "metadata": {},
   "outputs": [
    {
     "data": {
      "text/plain": [
       "'/home/filip/Automate_boring_stuff_book_solutions/chapter_9'"
      ]
     },
     "execution_count": 35,
     "metadata": {},
     "output_type": "execute_result"
    }
   ],
   "source": [
    "os.path.abspath('.') # easy to conver relative into an absolute"
   ]
  },
  {
   "cell_type": "code",
   "execution_count": 36,
   "id": "7f8a8895-9fbe-4cf6-ac9a-ad05b6609a6f",
   "metadata": {},
   "outputs": [
    {
     "data": {
      "text/plain": [
       "False"
      ]
     },
     "execution_count": 36,
     "metadata": {},
     "output_type": "execute_result"
    }
   ],
   "source": [
    "os.path.isabs('.')"
   ]
  },
  {
   "cell_type": "code",
   "execution_count": 38,
   "id": "890594e5-4d50-4c1f-b872-103cd1022e2f",
   "metadata": {},
   "outputs": [
    {
     "data": {
      "text/plain": [
       "'../../../..'"
      ]
     },
     "execution_count": 38,
     "metadata": {},
     "output_type": "execute_result"
    }
   ],
   "source": [
    "os.path.relpath('/', Path.cwd()) # relative path to / from the cwd"
   ]
  },
  {
   "cell_type": "markdown",
   "id": "f6c8ee05-7f47-44ec-a704-8cba61e60119",
   "metadata": {},
   "source": [
    "## Extraction parts of a file path\n"
   ]
  },
  {
   "cell_type": "code",
   "execution_count": 39,
   "id": "5076042d-a158-42b6-a1da-4cc94c531357",
   "metadata": {},
   "outputs": [],
   "source": [
    "p = Path.cwd()"
   ]
  },
  {
   "cell_type": "code",
   "execution_count": 40,
   "id": "d7efc0b9-2ede-4298-9d3c-7e40d02afbf2",
   "metadata": {},
   "outputs": [
    {
     "data": {
      "text/plain": [
       "'/'"
      ]
     },
     "execution_count": 40,
     "metadata": {},
     "output_type": "execute_result"
    }
   ],
   "source": [
    "p.anchor"
   ]
  },
  {
   "cell_type": "code",
   "execution_count": 41,
   "id": "077859e9-47b8-43a4-919a-fa179d78bb92",
   "metadata": {},
   "outputs": [
    {
     "data": {
      "text/plain": [
       "PosixPath('/home/filip/Automate_boring_stuff_book_solutions')"
      ]
     },
     "execution_count": 41,
     "metadata": {},
     "output_type": "execute_result"
    }
   ],
   "source": [
    "p.parent"
   ]
  },
  {
   "cell_type": "code",
   "execution_count": 43,
   "id": "24c61045-b6bc-4980-b69e-6583fb08daa9",
   "metadata": {},
   "outputs": [
    {
     "data": {
      "text/plain": [
       "'chapter_9'"
      ]
     },
     "execution_count": 43,
     "metadata": {},
     "output_type": "execute_result"
    }
   ],
   "source": [
    "p.stem"
   ]
  },
  {
   "cell_type": "code",
   "execution_count": 44,
   "id": "5225e72d-7803-4fe5-9762-a67bb7aa1894",
   "metadata": {},
   "outputs": [
    {
     "data": {
      "text/plain": [
       "''"
      ]
     },
     "execution_count": 44,
     "metadata": {},
     "output_type": "execute_result"
    }
   ],
   "source": [
    "p.suffix"
   ]
  },
  {
   "cell_type": "code",
   "execution_count": 45,
   "id": "39870aed-9d71-4ec9-ab7a-b10dddf0696d",
   "metadata": {},
   "outputs": [
    {
     "data": {
      "text/plain": [
       "''"
      ]
     },
     "execution_count": 45,
     "metadata": {},
     "output_type": "execute_result"
    }
   ],
   "source": [
    "p.drive"
   ]
  },
  {
   "cell_type": "code",
   "execution_count": 46,
   "id": "5b4ac574-405c-4b6b-8052-17a52dbf663e",
   "metadata": {},
   "outputs": [
    {
     "data": {
      "text/plain": [
       "PosixPath('/home/filip/Automate_boring_stuff_book_solutions')"
      ]
     },
     "execution_count": 46,
     "metadata": {},
     "output_type": "execute_result"
    }
   ],
   "source": [
    "Path.cwd().parents[0]"
   ]
  },
  {
   "cell_type": "code",
   "execution_count": 48,
   "id": "d83b1f35-8b30-461f-af06-b3adadeb5078",
   "metadata": {},
   "outputs": [
    {
     "data": {
      "text/plain": [
       "PosixPath('/home')"
      ]
     },
     "execution_count": 48,
     "metadata": {},
     "output_type": "execute_result"
    }
   ],
   "source": [
    "Path.cwd().parents[2]"
   ]
  },
  {
   "cell_type": "code",
   "execution_count": 49,
   "id": "da0a2914-8b76-482d-beec-9c92f0d4c0fe",
   "metadata": {},
   "outputs": [
    {
     "data": {
      "text/plain": [
       "PosixPath('/home/filip/Automate_boring_stuff_book_solutions/chapter_9/test.txt')"
      ]
     },
     "execution_count": 49,
     "metadata": {},
     "output_type": "execute_result"
    }
   ],
   "source": [
    "filePath = Path.cwd() / 'test.txt'\n",
    "\n",
    "filePath"
   ]
  },
  {
   "cell_type": "code",
   "execution_count": 50,
   "id": "ba75648e-4870-465a-bbfd-3ff4656c0f92",
   "metadata": {},
   "outputs": [
    {
     "data": {
      "text/plain": [
       "'test.txt'"
      ]
     },
     "execution_count": 50,
     "metadata": {},
     "output_type": "execute_result"
    }
   ],
   "source": [
    "os.path.basename(filePath)"
   ]
  },
  {
   "cell_type": "code",
   "execution_count": 51,
   "id": "771d5098-362a-422a-a2c8-3d211dee771b",
   "metadata": {},
   "outputs": [
    {
     "data": {
      "text/plain": [
       "'/home/filip/Automate_boring_stuff_book_solutions/chapter_9'"
      ]
     },
     "execution_count": 51,
     "metadata": {},
     "output_type": "execute_result"
    }
   ],
   "source": [
    "os.path.dirname(filePath)"
   ]
  },
  {
   "cell_type": "code",
   "execution_count": 52,
   "id": "32c71d50-a21d-4401-af5e-26e1663a53f9",
   "metadata": {},
   "outputs": [
    {
     "data": {
      "text/plain": [
       "('/home/filip/Automate_boring_stuff_book_solutions/chapter_9', 'test.txt')"
      ]
     },
     "execution_count": 52,
     "metadata": {},
     "output_type": "execute_result"
    }
   ],
   "source": [
    "# get tuple of base name and dir name\n",
    "os.path.split(filePath)"
   ]
  },
  {
   "cell_type": "markdown",
   "id": "d8b7e060-9160-458c-bf50-8cf027250185",
   "metadata": {},
   "source": [
    "## Finding file sizes and folder contents\n",
    "\n",
    "- os.path module"
   ]
  },
  {
   "cell_type": "code",
   "execution_count": 56,
   "id": "a7e6beca-af5e-42a4-8caf-63905b9f4726",
   "metadata": {},
   "outputs": [
    {
     "data": {
      "text/plain": [
       "4096"
      ]
     },
     "execution_count": 56,
     "metadata": {},
     "output_type": "execute_result"
    }
   ],
   "source": [
    "os.path.getsize(Path.cwd()) # in bytes"
   ]
  },
  {
   "cell_type": "code",
   "execution_count": 58,
   "id": "4b0c5f3b-8328-4a19-8601-c3bfa799b87f",
   "metadata": {},
   "outputs": [
    {
     "data": {
      "text/plain": [
       "['eliska',\n",
       " 'first_folder',\n",
       " 'test_folder',\n",
       " '.ipynb_checkpoints',\n",
       " 'one',\n",
       " 'reading_writing_files.ipynb']"
      ]
     },
     "execution_count": 58,
     "metadata": {},
     "output_type": "execute_result"
    }
   ],
   "source": [
    "os.listdir(Path.cwd()) # list with folders"
   ]
  },
  {
   "cell_type": "markdown",
   "id": "4d53f040-17c4-4b68-ae6a-738a76d645a9",
   "metadata": {},
   "source": [
    "## Modifying a list of files using glob patterns\n",
    "\n",
    "- glob() is simpler than listdir()"
   ]
  },
  {
   "cell_type": "code",
   "execution_count": 59,
   "id": "8324679b-fde6-4e4d-b93f-a07ce160c243",
   "metadata": {},
   "outputs": [
    {
     "data": {
      "text/plain": [
       "PosixPath('/home/filip/Automate_boring_stuff_book_solutions/chapter_9')"
      ]
     },
     "execution_count": 59,
     "metadata": {},
     "output_type": "execute_result"
    }
   ],
   "source": [
    "p = Path.cwd()\n",
    "p"
   ]
  },
  {
   "cell_type": "code",
   "execution_count": 62,
   "id": "8a1cb077-79c9-4691-8913-54853e0e24b7",
   "metadata": {},
   "outputs": [
    {
     "data": {
      "text/plain": [
       "<generator object Path.glob at 0x7f909e473010>"
      ]
     },
     "execution_count": 62,
     "metadata": {},
     "output_type": "execute_result"
    }
   ],
   "source": [
    "p.glob('*') # put pattern to the argument"
   ]
  },
  {
   "cell_type": "code",
   "execution_count": 63,
   "id": "ceec905c-3b91-4741-82f7-96ac22cddd72",
   "metadata": {},
   "outputs": [
    {
     "data": {
      "text/plain": [
       "[PosixPath('/home/filip/Automate_boring_stuff_book_solutions/chapter_9/eliska'),\n",
       " PosixPath('/home/filip/Automate_boring_stuff_book_solutions/chapter_9/first_folder'),\n",
       " PosixPath('/home/filip/Automate_boring_stuff_book_solutions/chapter_9/test_folder'),\n",
       " PosixPath('/home/filip/Automate_boring_stuff_book_solutions/chapter_9/.ipynb_checkpoints'),\n",
       " PosixPath('/home/filip/Automate_boring_stuff_book_solutions/chapter_9/one'),\n",
       " PosixPath('/home/filip/Automate_boring_stuff_book_solutions/chapter_9/reading_writing_files.ipynb')]"
      ]
     },
     "execution_count": 63,
     "metadata": {},
     "output_type": "execute_result"
    }
   ],
   "source": [
    "list(p.glob('*'))"
   ]
  },
  {
   "cell_type": "code",
   "execution_count": 66,
   "id": "781cafb8-b5a5-4f32-838d-bd3d5aa3753f",
   "metadata": {},
   "outputs": [
    {
     "data": {
      "text/plain": [
       "[PosixPath('/home/filip/Automate_boring_stuff_book_solutions/chapter_9/eliska')]"
      ]
     },
     "execution_count": 66,
     "metadata": {},
     "output_type": "execute_result"
    }
   ],
   "source": [
    "list(p.glob('*ska'))"
   ]
  },
  {
   "cell_type": "code",
   "execution_count": 68,
   "id": "ef3c8415-d62a-498c-9914-c2d94fa79ffc",
   "metadata": {},
   "outputs": [
    {
     "data": {
      "text/plain": [
       "[]"
      ]
     },
     "execution_count": 68,
     "metadata": {},
     "output_type": "execute_result"
    }
   ],
   "source": [
    "list(p.glob('*?x?'))"
   ]
  },
  {
   "cell_type": "code",
   "execution_count": 70,
   "id": "17dd133f-cf02-4919-a3f6-28bd3513f767",
   "metadata": {},
   "outputs": [
    {
     "name": "stdout",
     "output_type": "stream",
     "text": [
      "/home/filip/Automate_boring_stuff_book_solutions/chapter_9/eliska\n",
      "/home/filip/Automate_boring_stuff_book_solutions/chapter_9/first_folder\n",
      "/home/filip/Automate_boring_stuff_book_solutions/chapter_9/test_folder\n",
      "/home/filip/Automate_boring_stuff_book_solutions/chapter_9/.ipynb_checkpoints\n",
      "/home/filip/Automate_boring_stuff_book_solutions/chapter_9/one\n",
      "/home/filip/Automate_boring_stuff_book_solutions/chapter_9/reading_writing_files.ipynb\n"
     ]
    }
   ],
   "source": [
    "for folder in p.glob('*'):\n",
    "    print(folder)"
   ]
  },
  {
   "cell_type": "markdown",
   "id": "65c5ab54-24a9-45bc-a89d-d15aa6695aa1",
   "metadata": {},
   "source": [
    "## Checking Path Validity\n",
    "\n"
   ]
  },
  {
   "cell_type": "code",
   "execution_count": 71,
   "id": "10701b5a-8714-4bf2-8bba-69b8af849322",
   "metadata": {},
   "outputs": [
    {
     "data": {
      "text/plain": [
       "True"
      ]
     },
     "execution_count": 71,
     "metadata": {},
     "output_type": "execute_result"
    }
   ],
   "source": [
    "p.exists()"
   ]
  },
  {
   "cell_type": "code",
   "execution_count": 73,
   "id": "c68d1f64-ff85-4b4d-8cf3-951788d491ad",
   "metadata": {},
   "outputs": [
    {
     "data": {
      "text/plain": [
       "False"
      ]
     },
     "execution_count": 73,
     "metadata": {},
     "output_type": "execute_result"
    }
   ],
   "source": [
    "p.is_file() # is it path file?"
   ]
  },
  {
   "cell_type": "code",
   "execution_count": 74,
   "id": "8bd62bd4-aba2-49c2-8d3f-3209928d1ac5",
   "metadata": {},
   "outputs": [
    {
     "data": {
      "text/plain": [
       "True"
      ]
     },
     "execution_count": 74,
     "metadata": {},
     "output_type": "execute_result"
    }
   ],
   "source": [
    "p.is_dir() # is it path dir?"
   ]
  },
  {
   "cell_type": "code",
   "execution_count": 75,
   "id": "3a9032bc-688b-4ecb-a667-ef67f813256c",
   "metadata": {},
   "outputs": [
    {
     "data": {
      "text/plain": [
       "False"
      ]
     },
     "execution_count": 75,
     "metadata": {},
     "output_type": "execute_result"
    }
   ],
   "source": [
    "# Is flash disk attached?\n",
    "flash_d = Path('/dev/mnt')\n",
    "\n",
    "flash_d.exists()"
   ]
  },
  {
   "cell_type": "markdown",
   "id": "5eb451df-7e77-450b-a2d2-4b702a164b06",
   "metadata": {},
   "source": [
    "# The file reading/writing process\n",
    "\n",
    "3 steaps\n",
    "- open()\n",
    "- read() or write()\n",
    "- close()"
   ]
  },
  {
   "cell_type": "code",
   "execution_count": 76,
   "id": "041d4a79-e84e-4237-a032-51ab39be8d36",
   "metadata": {},
   "outputs": [
    {
     "data": {
      "text/plain": [
       "PosixPath('/home/filip/Automate_boring_stuff_book_solutions/chapter_9/spam.txt')"
      ]
     },
     "execution_count": 76,
     "metadata": {},
     "output_type": "execute_result"
    }
   ],
   "source": [
    "p = Path.cwd() / Path('spam.txt')\n",
    "\n",
    "p"
   ]
  },
  {
   "cell_type": "code",
   "execution_count": 77,
   "id": "711abde3-5d04-4e5f-aa1b-853e72308f53",
   "metadata": {},
   "outputs": [
    {
     "data": {
      "text/plain": [
       "13"
      ]
     },
     "execution_count": 77,
     "metadata": {},
     "output_type": "execute_result"
    }
   ],
   "source": [
    "p.write_text('Hello, world!') "
   ]
  },
  {
   "cell_type": "code",
   "execution_count": 78,
   "id": "28af8124-1cd1-46c1-b58b-2b2859a099f9",
   "metadata": {},
   "outputs": [
    {
     "data": {
      "text/plain": [
       "'Hello, world!'"
      ]
     },
     "execution_count": 78,
     "metadata": {},
     "output_type": "execute_result"
    }
   ],
   "source": [
    "p.read_text() # read whole file"
   ]
  },
  {
   "cell_type": "markdown",
   "id": "0b750ae1-36c1-4438-bdf2-842af576b2eb",
   "metadata": {},
   "source": [
    "## Opening with open()\n",
    "- u can chose relative or absolute path\n"
   ]
  },
  {
   "cell_type": "code",
   "execution_count": 82,
   "id": "4ccf1c58-5faf-4a79-8b1e-b9c605416fd3",
   "metadata": {},
   "outputs": [],
   "source": [
    "helloFile = open(Path.cwd() / 'spam.txt')"
   ]
  },
  {
   "cell_type": "markdown",
   "id": "f8c3fae0-5ca5-49a6-9d62-1f7d950d7b9d",
   "metadata": {},
   "source": [
    "## Reading the contents of files\n"
   ]
  },
  {
   "cell_type": "code",
   "execution_count": 83,
   "id": "48fd3c3c-f86e-4e03-9958-219dd29645bf",
   "metadata": {},
   "outputs": [
    {
     "data": {
      "text/plain": [
       "'Hello, world!'"
      ]
     },
     "execution_count": 83,
     "metadata": {},
     "output_type": "execute_result"
    }
   ],
   "source": [
    "helloContent = helloFile.read()\n",
    "helloContent # read the whole file!"
   ]
  },
  {
   "cell_type": "code",
   "execution_count": 84,
   "id": "6e51747e-29dc-49c1-9654-57a44285b59d",
   "metadata": {},
   "outputs": [],
   "source": [
    "!touch sonnet.txt"
   ]
  },
  {
   "cell_type": "code",
   "execution_count": 86,
   "id": "cb1e59c6-8c71-4fea-b915-0773ff46454d",
   "metadata": {},
   "outputs": [
    {
     "data": {
      "text/plain": [
       "['blab blab\\n', 'helo jak\\n', 'kek kekel\\n']"
      ]
     },
     "execution_count": 86,
     "metadata": {},
     "output_type": "execute_result"
    }
   ],
   "source": [
    "sonnet = open(Path.cwd() / 'sonnet.txt')\n",
    "sonnet.readlines()"
   ]
  },
  {
   "cell_type": "markdown",
   "id": "aebea2db-c1e3-4c96-8bf0-1f86b7b83a50",
   "metadata": {},
   "source": [
    "## Writing to files\n"
   ]
  },
  {
   "cell_type": "code",
   "execution_count": 87,
   "id": "6b0be950-ccb5-4fb6-aacb-f08b482e8295",
   "metadata": {},
   "outputs": [
    {
     "data": {
      "text/plain": [
       "14"
      ]
     },
     "execution_count": 87,
     "metadata": {},
     "output_type": "execute_result"
    }
   ],
   "source": [
    "baconFile = open('bacon.txt', 'w')\n",
    "baconFile.write('Hello, world!\\n')"
   ]
  },
  {
   "cell_type": "code",
   "execution_count": 88,
   "id": "0e7202dc-42e5-46ac-a03c-d3cb7bf2d805",
   "metadata": {},
   "outputs": [],
   "source": [
    "baconFile.close()"
   ]
  },
  {
   "cell_type": "code",
   "execution_count": 89,
   "id": "10055ac9-c1ca-4e13-bf2c-01ffe5cd26d0",
   "metadata": {},
   "outputs": [],
   "source": [
    "baconFile = open('bacon.txt', 'a')\n",
    "baconFile.write('Bacon is not a vegetable.')\n",
    "baconFile.close()"
   ]
  },
  {
   "cell_type": "code",
   "execution_count": 91,
   "id": "a1e7d615-13ac-4fce-87f8-74a494970b4d",
   "metadata": {},
   "outputs": [],
   "source": [
    "baconFile = open('bacon.txt', 'r')\n",
    "content = baconFile.read()"
   ]
  },
  {
   "cell_type": "code",
   "execution_count": 92,
   "id": "9deb01ce-95e1-4c30-8c3e-bda7e34f4d39",
   "metadata": {},
   "outputs": [],
   "source": [
    "baconFile.close()"
   ]
  },
  {
   "cell_type": "code",
   "execution_count": 93,
   "id": "2b84b81c-28a9-4f66-93c3-88e5b8393868",
   "metadata": {},
   "outputs": [
    {
     "name": "stdout",
     "output_type": "stream",
     "text": [
      "Hello, world!\n",
      "Bacon is not a vegetable.\n"
     ]
    }
   ],
   "source": [
    "print(content)"
   ]
  },
  {
   "cell_type": "markdown",
   "id": "74ce033f-92d0-450f-9183-e1344ce63d77",
   "metadata": {},
   "source": [
    "# Saving Variables with the **shelve module**"
   ]
  },
  {
   "cell_type": "code",
   "execution_count": 1,
   "id": "ffca1188-2780-4954-b78a-f08f4b20bd91",
   "metadata": {},
   "outputs": [],
   "source": [
    "import shelve"
   ]
  },
  {
   "cell_type": "code",
   "execution_count": 2,
   "id": "c0ebb23c-fc3d-48e2-9f4f-2ec85c4b4051",
   "metadata": {},
   "outputs": [],
   "source": [
    "shelfFile = shelve.open('mydata')\n",
    "cats = ['Zophie', 'Pooka', 'Simon']\n",
    "shelfFile['cats'] = cats\n",
    "shelfFile.close()"
   ]
  },
  {
   "cell_type": "markdown",
   "id": "1b8262a6-a89d-4a0b-9be2-8b3d82f360a9",
   "metadata": {},
   "source": [
    "- We put cats to shelfFile like dictionary. But it is actually still list"
   ]
  },
  {
   "cell_type": "code",
   "execution_count": 3,
   "id": "4868182e-9ba8-4f67-988a-a32e0228f7e1",
   "metadata": {},
   "outputs": [
    {
     "data": {
      "text/plain": [
       "shelve.DbfilenameShelf"
      ]
     },
     "execution_count": 3,
     "metadata": {},
     "output_type": "execute_result"
    }
   ],
   "source": [
    "shelfFile = shelve.open('mydata')\n",
    "type(shelfFile)"
   ]
  },
  {
   "cell_type": "code",
   "execution_count": 4,
   "id": "5ae775d1-915a-4be9-9db6-3425f3e464fe",
   "metadata": {},
   "outputs": [
    {
     "data": {
      "text/plain": [
       "['Zophie', 'Pooka', 'Simon']"
      ]
     },
     "execution_count": 4,
     "metadata": {},
     "output_type": "execute_result"
    }
   ],
   "source": [
    "shelfFile['cats']"
   ]
  },
  {
   "cell_type": "code",
   "execution_count": 5,
   "id": "79b41ead-648e-4bea-870e-ace6c550bb19",
   "metadata": {},
   "outputs": [],
   "source": [
    "shelfFile.close()"
   ]
  },
  {
   "cell_type": "code",
   "execution_count": 6,
   "id": "7d9f05a4-0183-4b70-bce9-793577eecf4c",
   "metadata": {},
   "outputs": [
    {
     "data": {
      "text/plain": [
       "['cats']"
      ]
     },
     "execution_count": 6,
     "metadata": {},
     "output_type": "execute_result"
    }
   ],
   "source": [
    "shelfFile = shelve.open('mydata')\n",
    "list(shelfFile.keys())"
   ]
  },
  {
   "cell_type": "code",
   "execution_count": 7,
   "id": "95607f66-c764-45dc-9ab3-06f3b47e11b5",
   "metadata": {},
   "outputs": [
    {
     "data": {
      "text/plain": [
       "[['Zophie', 'Pooka', 'Simon']]"
      ]
     },
     "execution_count": 7,
     "metadata": {},
     "output_type": "execute_result"
    }
   ],
   "source": [
    "list(shelfFile.values())"
   ]
  },
  {
   "cell_type": "code",
   "execution_count": 8,
   "id": "e65eb2de-dbb7-4e6e-a501-fc0df715c4e2",
   "metadata": {},
   "outputs": [],
   "source": [
    "shelfFile.close()"
   ]
  },
  {
   "cell_type": "markdown",
   "id": "5567653f-4aca-4122-a517-2293c8b3c12a",
   "metadata": {},
   "source": [
    "## Saving variables with the pprint.pformat() function\n",
    "\n",
    "- return text as a string instead of printing it\n",
    "- save it to .py and then use it like normal module"
   ]
  },
  {
   "cell_type": "code",
   "execution_count": 9,
   "id": "f43fd5d5-2ab9-49b1-b2c6-36b91d7d34a2",
   "metadata": {},
   "outputs": [
    {
     "data": {
      "text/plain": [
       "[{'name': 'Zophie', 'desc': 'chubby'}, {'name': 'Pooka', 'desc': 'fluffy'}]"
      ]
     },
     "execution_count": 9,
     "metadata": {},
     "output_type": "execute_result"
    }
   ],
   "source": [
    "import pprint\n",
    "cats = [{'name': 'Zophie', 'desc': 'chubby'}, {'name': 'Pooka', 'desc': 'fluffy'}]\n",
    "cats"
   ]
  },
  {
   "cell_type": "code",
   "execution_count": 13,
   "id": "a70840c1-1209-4d76-ada2-d9e39066561e",
   "metadata": {},
   "outputs": [
    {
     "data": {
      "text/plain": [
       "\"[{'desc': 'chubby', 'name': 'Zophie'}, {'desc': 'fluffy', 'name': 'Pooka'}]\""
      ]
     },
     "execution_count": 13,
     "metadata": {},
     "output_type": "execute_result"
    }
   ],
   "source": [
    "pprint.pformat(cats) # data as string!"
   ]
  },
  {
   "cell_type": "code",
   "execution_count": 12,
   "id": "fc349663-c7a5-4273-95f1-c77de246254e",
   "metadata": {},
   "outputs": [],
   "source": [
    "fileObj = open('myCats.py', 'w')\n",
    "fileObj.write('cats = ' + pprint.pformat(cats) + '\\n')\n",
    "fileObj.close()"
   ]
  },
  {
   "cell_type": "code",
   "execution_count": 14,
   "id": "28214746-b6f1-41ae-a0fe-dc917a4b07bd",
   "metadata": {},
   "outputs": [],
   "source": [
    "import myCats"
   ]
  },
  {
   "cell_type": "code",
   "execution_count": 15,
   "id": "a46b86b9-cccd-4faf-ab0b-509c900cf29d",
   "metadata": {},
   "outputs": [
    {
     "data": {
      "text/plain": [
       "[{'desc': 'chubby', 'name': 'Zophie'}, {'desc': 'fluffy', 'name': 'Pooka'}]"
      ]
     },
     "execution_count": 15,
     "metadata": {},
     "output_type": "execute_result"
    }
   ],
   "source": [
    "myCats.cats"
   ]
  },
  {
   "cell_type": "code",
   "execution_count": 16,
   "id": "10a9b7c8-f75d-4ec3-98e1-8ea1f904d246",
   "metadata": {},
   "outputs": [
    {
     "data": {
      "text/plain": [
       "{'desc': 'chubby', 'name': 'Zophie'}"
      ]
     },
     "execution_count": 16,
     "metadata": {},
     "output_type": "execute_result"
    }
   ],
   "source": [
    "myCats.cats[0]"
   ]
  },
  {
   "cell_type": "markdown",
   "id": "cf919c3a-f3d3-44e2-a449-8b784b405dd7",
   "metadata": {},
   "source": [
    "- shelve module is preferred"
   ]
  },
  {
   "cell_type": "code",
   "execution_count": null,
   "id": "096b976f-f2c3-4ae4-aa79-a17528dbb8fe",
   "metadata": {},
   "outputs": [],
   "source": []
  }
 ],
 "metadata": {
  "kernelspec": {
   "display_name": "Python (lab)",
   "language": "python",
   "name": "lab"
  },
  "language_info": {
   "codemirror_mode": {
    "name": "ipython",
    "version": 3
   },
   "file_extension": ".py",
   "mimetype": "text/x-python",
   "name": "python",
   "nbconvert_exporter": "python",
   "pygments_lexer": "ipython3",
   "version": "3.12.2"
  }
 },
 "nbformat": 4,
 "nbformat_minor": 5
}
