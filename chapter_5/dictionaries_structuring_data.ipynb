{
 "cells": [
  {
   "cell_type": "code",
   "execution_count": 1,
   "id": "e0365eb3-918c-4bb0-9264-19de739dce61",
   "metadata": {},
   "outputs": [],
   "source": [
    "myCat = {'size': 'fat', 'color': 'gray', 'disposition': 'loud'}"
   ]
  },
  {
   "cell_type": "code",
   "execution_count": 2,
   "id": "775a35ad-ec90-4ae0-8141-ccda40e6d0de",
   "metadata": {},
   "outputs": [
    {
     "data": {
      "text/plain": [
       "{'size': 'fat', 'color': 'gray', 'disposition': 'loud'}"
      ]
     },
     "execution_count": 2,
     "metadata": {},
     "output_type": "execute_result"
    }
   ],
   "source": [
    "myCat"
   ]
  },
  {
   "cell_type": "code",
   "execution_count": 4,
   "id": "12efc4a5-8856-41b6-9514-3b2c05414114",
   "metadata": {},
   "outputs": [
    {
     "data": {
      "text/plain": [
       "'fat'"
      ]
     },
     "execution_count": 4,
     "metadata": {},
     "output_type": "execute_result"
    }
   ],
   "source": [
    "myCat['size']"
   ]
  },
  {
   "cell_type": "markdown",
   "id": "8c57de05-9235-4bba-a54c-dc4386672703",
   "metadata": {},
   "source": [
    "## The keys(), values(), and items() Methods"
   ]
  },
  {
   "cell_type": "code",
   "execution_count": 7,
   "id": "6c7a9be1-d2d0-4410-a36a-6b4d44811b45",
   "metadata": {},
   "outputs": [
    {
     "name": "stdout",
     "output_type": "stream",
     "text": [
      "size fat\n",
      "color gray\n",
      "disposition loud\n"
     ]
    }
   ],
   "source": [
    "# multiple variable asignment\n",
    "\n",
    "for k, v in myCat.items():\n",
    "    print(k + ' ' + v)"
   ]
  },
  {
   "cell_type": "markdown",
   "id": "289840ac-86af-4778-8c07-9ec634a535ef",
   "metadata": {},
   "source": [
    "## Checking Whether a Key or Value Exists in a Dictionary"
   ]
  },
  {
   "cell_type": "code",
   "execution_count": 9,
   "id": "0e8e7c63-8184-4f6a-8661-f290cf151721",
   "metadata": {},
   "outputs": [
    {
     "data": {
      "text/plain": [
       "True"
      ]
     },
     "execution_count": 9,
     "metadata": {},
     "output_type": "execute_result"
    }
   ],
   "source": [
    "'size' in myCat"
   ]
  },
  {
   "cell_type": "markdown",
   "id": "7d36bacb-feaf-43f6-a87c-6f702f8ec135",
   "metadata": {},
   "source": [
    "### get() method"
   ]
  },
  {
   "cell_type": "code",
   "execution_count": 10,
   "id": "ab59b120-a584-4aab-9eeb-ee4bfc638963",
   "metadata": {},
   "outputs": [],
   "source": [
    "# set value if the value not in dictionary"
   ]
  },
  {
   "cell_type": "markdown",
   "id": "1ff8831d-1205-4bc8-8655-a50659b56b0c",
   "metadata": {},
   "source": [
    "### setdefault() method\n",
    "\n",
    "- if the key is not in dictionary, create it, else not"
   ]
  },
  {
   "cell_type": "code",
   "execution_count": 11,
   "id": "ef42c9d6-9e29-4407-b31f-1c7829215095",
   "metadata": {},
   "outputs": [],
   "source": [
    "spam = {'name': 'Pooka', 'age': 5}"
   ]
  },
  {
   "cell_type": "code",
   "execution_count": 12,
   "id": "ce5cb8c1-0d91-4d71-a084-d57f7681e539",
   "metadata": {},
   "outputs": [
    {
     "data": {
      "text/plain": [
       "'czech'"
      ]
     },
     "execution_count": 12,
     "metadata": {},
     "output_type": "execute_result"
    }
   ],
   "source": [
    "spam.setdefault('nationality', 'czech')"
   ]
  },
  {
   "cell_type": "code",
   "execution_count": 13,
   "id": "45b3b4e7-d28b-4382-b265-c1ba5ac7c8c7",
   "metadata": {},
   "outputs": [
    {
     "data": {
      "text/plain": [
       "{'name': 'Pooka', 'age': 5, 'nationality': 'czech'}"
      ]
     },
     "execution_count": 13,
     "metadata": {},
     "output_type": "execute_result"
    }
   ],
   "source": [
    "spam"
   ]
  },
  {
   "cell_type": "code",
   "execution_count": 15,
   "id": "9c8a989b-e1bf-47fb-97d7-6ff56f93b041",
   "metadata": {},
   "outputs": [
    {
     "data": {
      "text/plain": [
       "'Pooka'"
      ]
     },
     "execution_count": 15,
     "metadata": {},
     "output_type": "execute_result"
    }
   ],
   "source": [
    "spam.setdefault('name', 'kek')"
   ]
  },
  {
   "cell_type": "code",
   "execution_count": 16,
   "id": "b00e7b50-ca6a-41fd-882d-dff40a416bf3",
   "metadata": {},
   "outputs": [
    {
     "data": {
      "text/plain": [
       "{'name': 'Pooka', 'age': 5, 'nationality': 'czech'}"
      ]
     },
     "execution_count": 16,
     "metadata": {},
     "output_type": "execute_result"
    }
   ],
   "source": [
    "spam"
   ]
  },
  {
   "cell_type": "markdown",
   "id": "fef7b73d-30e5-4232-9dea-73141266c18e",
   "metadata": {},
   "source": [
    "## pprint module\n",
    "\n",
    "pprint() and pformat() -> pretty print dictionary values\n",
    "\n",
    "The pprint.pprint() function is especially helpful when the dictionary\n",
    "itself contains nested lists or dictionaries."
   ]
  },
  {
   "cell_type": "code",
   "execution_count": null,
   "id": "846c4013-f08f-41dc-8bed-5998ec5a2a7e",
   "metadata": {},
   "outputs": [],
   "source": []
  }
 ],
 "metadata": {
  "kernelspec": {
   "display_name": "Python (lab)",
   "language": "python",
   "name": "lab"
  },
  "language_info": {
   "codemirror_mode": {
    "name": "ipython",
    "version": 3
   },
   "file_extension": ".py",
   "mimetype": "text/x-python",
   "name": "python",
   "nbconvert_exporter": "python",
   "pygments_lexer": "ipython3",
   "version": "3.12.2"
  }
 },
 "nbformat": 4,
 "nbformat_minor": 5
}
