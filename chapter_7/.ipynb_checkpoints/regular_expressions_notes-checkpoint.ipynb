{
 "cells": [
  {
   "cell_type": "markdown",
   "id": "c9202b30-9d94-42e9-99a5-e84aab0ca9f0",
   "metadata": {},
   "source": [
    "- \\d -> digit\n",
    "- \\d{3} -> match digit 3 times"
   ]
  },
  {
   "cell_type": "code",
   "execution_count": 1,
   "id": "f812fc02-c48d-45af-aeb0-264d5304c43b",
   "metadata": {},
   "outputs": [
    {
     "name": "stdout",
     "output_type": "stream",
     "text": [
      "Call me at 4\n",
      "all me at 41\n",
      "ll me at 415\n",
      "l me at 415-\n",
      " me at 415-5\n",
      "me at 415-55\n",
      "e at 415-555\n",
      " at 415-555-\n",
      "at 415-555-1\n",
      "t 415-555-10\n",
      " 415-555-101\n",
      "415-555-1011\n",
      "15-555-1011 \n",
      "5-555-1011 t\n",
      "-555-1011 to\n",
      "555-1011 tom\n",
      "55-1011 tomo\n",
      "5-1011 tomor\n",
      "-1011 tomorr\n",
      "1011 tomorro\n",
      "011 tomorrow\n",
      "11 tomorrow.\n",
      "1 tomorrow. \n",
      " tomorrow. 4\n",
      "tomorrow. 41\n",
      "omorrow. 415\n",
      "morrow. 415-\n",
      "orrow. 415-5\n",
      "rrow. 415-55\n",
      "row. 415-555\n",
      "ow. 415-555-\n",
      "w. 415-555-9\n",
      ". 415-555-99\n",
      " 415-555-999\n",
      "415-555-9999\n",
      "15-555-9999 \n",
      "5-555-9999 i\n",
      "-555-9999 is\n",
      "555-9999 is \n",
      "55-9999 is m\n",
      "5-9999 is my\n",
      "-9999 is my \n",
      "9999 is my o\n",
      "999 is my of\n",
      "99 is my off\n",
      "9 is my offi\n",
      " is my offic\n",
      "is my office\n",
      "s my office.\n",
      " my office.\n",
      "my office.\n",
      "y office.\n",
      " office.\n",
      "office.\n",
      "ffice.\n",
      "fice.\n",
      "ice.\n",
      "ce.\n",
      "e.\n",
      ".\n"
     ]
    }
   ],
   "source": [
    "message = 'Call me at 415-555-1011 tomorrow. 415-555-9999 is my office.'\n",
    "for i in range(len(message)):\n",
    "    chunk = message[i:i+12]\n",
    "\n",
    "    print(chunk)\n"
   ]
  },
  {
   "cell_type": "code",
   "execution_count": 3,
   "id": "b77d875d-2ca4-4cc7-a819-3d8e93d07c78",
   "metadata": {},
   "outputs": [],
   "source": [
    "import re\n",
    "phoneNumRegex = re.compile(r'\\d\\d\\d-\\d\\d\\d-\\d\\d\\d\\d') # return regex object\n"
   ]
  },
  {
   "cell_type": "code",
   "execution_count": 7,
   "id": "080324f2-7131-48f2-832b-6a0b139925e8",
   "metadata": {},
   "outputs": [
    {
     "name": "stdout",
     "output_type": "stream",
     "text": [
      "<re.Match object; span=(19, 31), match='445-123-9438'>\n"
     ]
    }
   ],
   "source": [
    "# matchin with search\n",
    "print(phoneNumRegex.search('My phone number is 445-123-9438'))"
   ]
  },
  {
   "cell_type": "markdown",
   "id": "7b98cb00-20f7-415b-8053-bccdb74152bb",
   "metadata": {},
   "source": [
    "- Která funkce vytvoří objekt s regex?\n",
    "- Jaký postup je při hledání regexu? compile, then search()"
   ]
  }
 ],
 "metadata": {
  "kernelspec": {
   "display_name": "Python (lab)",
   "language": "python",
   "name": "lab"
  },
  "language_info": {
   "codemirror_mode": {
    "name": "ipython",
    "version": 3
   },
   "file_extension": ".py",
   "mimetype": "text/x-python",
   "name": "python",
   "nbconvert_exporter": "python",
   "pygments_lexer": "ipython3",
   "version": "3.12.2"
  }
 },
 "nbformat": 4,
 "nbformat_minor": 5
}
